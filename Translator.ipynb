{
 "cells": [
  {
   "cell_type": "code",
   "execution_count": null,
   "metadata": {},
   "outputs": [],
   "source": [
    "pip install translate"
   ]
  },
  {
   "cell_type": "code",
   "execution_count": 2,
   "metadata": {},
   "outputs": [
    {
     "name": "stdout",
     "output_type": "stream",
     "text": [
      "Actual message:  In every day, there are 1,440 minutes. That means we have 1,440 daily opportunities to make a positive impact.\n",
      "\n",
      "After Translation in spanish:  En cada día, hay 1.440 minutos. Eso significa que tenemos 1,440 oportunidades diarias para tener un impacto positivo.\n"
     ]
    }
   ],
   "source": [
    "from translate import Translator\n",
    "\n",
    "translator = Translator(to_lang = 'es')\n",
    "\n",
    "try:\n",
    "    with open(\"./text.txt\", mode = 'r') as my_file:\n",
    "        text = my_file.read()\n",
    "        translation = translator.translate(text)\n",
    "        print(\"Actual message: \",text)\n",
    "        print(\"\")\n",
    "        print(\"After Translation in spanish: \",translation)\n",
    "except FileNotFoundError as no_file:\n",
    "    print('Please check your file path')"
   ]
  },
  {
   "cell_type": "code",
   "execution_count": null,
   "metadata": {},
   "outputs": [],
   "source": []
  }
 ],
 "metadata": {
  "kernelspec": {
   "display_name": "Python 3",
   "language": "python",
   "name": "python3"
  },
  "language_info": {
   "codemirror_mode": {
    "name": "ipython",
    "version": 3
   },
   "file_extension": ".py",
   "mimetype": "text/x-python",
   "name": "python",
   "nbconvert_exporter": "python",
   "pygments_lexer": "ipython3",
   "version": "3.8.3"
  }
 },
 "nbformat": 4,
 "nbformat_minor": 4
}
